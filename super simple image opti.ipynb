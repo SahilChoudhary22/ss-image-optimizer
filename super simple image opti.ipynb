{
 "cells": [
  {
   "cell_type": "markdown",
   "metadata": {},
   "source": [
    "=================================================================================================================="
   ]
  },
  {
   "cell_type": "markdown",
   "metadata": {},
   "source": [
    "#                                         <center>|| Super Simple Image Optimizer || </center>"
   ]
  },
  {
   "cell_type": "markdown",
   "metadata": {},
   "source": [
    " _<center> | By https://github.com/SahilChoudhary22 |</center>_\n"
   ]
  },
  {
   "cell_type": "markdown",
   "metadata": {},
   "source": [
    "=================================================================================================================="
   ]
  },
  {
   "cell_type": "markdown",
   "metadata": {},
   "source": [
    "## Importing the required modules"
   ]
  },
  {
   "cell_type": "code",
   "execution_count": 101,
   "metadata": {},
   "outputs": [],
   "source": [
    "from PIL import Image as pilimg\n",
    "from tkinter import *\n",
    "from tkinter import ttk\n",
    "from tkinter import filedialog\n",
    "from pathlib import Path"
   ]
  },
  {
   "cell_type": "markdown",
   "metadata": {},
   "source": [
    "## Initializing the Tkinter Module"
   ]
  },
  {
   "cell_type": "code",
   "execution_count": 102,
   "metadata": {},
   "outputs": [],
   "source": [
    "root = Tk()\n",
    "root.title(\"Super Simple Image Optimizer\")\n",
    "mainframe = ttk.Frame(root, padding=\"3 3 12 12\")\n",
    "mainframe.pack()"
   ]
  },
  {
   "cell_type": "code",
   "execution_count": 103,
   "metadata": {},
   "outputs": [],
   "source": [
    "w = Text(root, bd =8)\n",
    "w.insert(INSERT, 'Super Simple Image Optimizer')\n",
    "w.pack()\n"
   ]
  },
  {
   "cell_type": "markdown",
   "metadata": {},
   "source": [
    "## Adding the browse function, the file gets optimized as soon as you browse it. "
   ]
  },
  {
   "cell_type": "code",
   "execution_count": 104,
   "metadata": {},
   "outputs": [],
   "source": [
    "def browsefunc():\n",
    "    filename = filedialog.askopenfilename(initialdir = \"/\",title = \"Select file\",filetypes = ((\"jpeg files\",\"*.jpg *.jpeg\"),(\"png files\",\"*.png\"),(\"bmp files\",\"*.bmp\"),(\"all files\",\"*.*\")))\n",
    "    pathlabel.config(text=filename)\n",
    "    patho = filename\n",
    "    openimg(patho)\n",
    "    \n",
    "def openimg(filepath):\n",
    "    in_Image = pilimg.open(filepath)\n",
    "    width, height = in_Image.size\n",
    "    justFileName = Path(filepath).name\n",
    "    justOptimize(in_Image, justFileName)\n",
    "\n",
    "browsebutton = Button(root, text=\"Browse file to optimize\", command=browsefunc)\n",
    "browsebutton.pack()\n",
    "\n",
    "pathlabel = Label(root)\n",
    "pathlabel.pack()"
   ]
  },
  {
   "cell_type": "markdown",
   "metadata": {},
   "source": [
    "## Optimization, quality currently set to 50%"
   ]
  },
  {
   "cell_type": "code",
   "execution_count": 105,
   "metadata": {},
   "outputs": [],
   "source": [
    "def justOptimize(image, justfilename):\n",
    "    finname = justfilename + \"ssio.jpg\"\n",
    "    newImage = image.resize((width,height), pilimg.ANTIALIAS)\n",
    "    newImage.save(finname , optimize = True,quality = 50)"
   ]
  },
  {
   "cell_type": "code",
   "execution_count": 106,
   "metadata": {},
   "outputs": [],
   "source": [
    "root.mainloop()"
   ]
  },
  {
   "cell_type": "markdown",
   "metadata": {},
   "source": [
    "---------------------"
   ]
  },
  {
   "cell_type": "markdown",
   "metadata": {},
   "source": [
    "TODO :\n",
    "\n",
    "1) Add slider to set quality [ ]\n",
    "\n",
    "2) Add a button to optimize instead of direct optimization on browsing [ ]\n",
    "\n",
    "3) Beautify the interface [ ]\n",
    "\n",
    "4) Add resizing and other functionalities [ ]"
   ]
  },
  {
   "cell_type": "code",
   "execution_count": null,
   "metadata": {},
   "outputs": [],
   "source": []
  }
 ],
 "metadata": {
  "kernelspec": {
   "display_name": "Python 3",
   "language": "python",
   "name": "python3"
  },
  "language_info": {
   "codemirror_mode": {
    "name": "ipython",
    "version": 3
   },
   "file_extension": ".py",
   "mimetype": "text/x-python",
   "name": "python",
   "nbconvert_exporter": "python",
   "pygments_lexer": "ipython3",
   "version": "3.7.3"
  }
 },
 "nbformat": 4,
 "nbformat_minor": 2
}
